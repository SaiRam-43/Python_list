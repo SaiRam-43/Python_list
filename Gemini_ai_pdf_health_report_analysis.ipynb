{
  "nbformat": 4,
  "nbformat_minor": 0,
  "metadata": {
    "colab": {
      "provenance": [],
      "authorship_tag": "ABX9TyOmPeRx/196m/3PJEQs/Gn8",
      "include_colab_link": true
    },
    "kernelspec": {
      "name": "python3",
      "display_name": "Python 3"
    },
    "language_info": {
      "name": "python"
    }
  },
  "cells": [
    {
      "cell_type": "markdown",
      "metadata": {
        "id": "view-in-github",
        "colab_type": "text"
      },
      "source": [
        "<a href=\"https://colab.research.google.com/github/SaiRam-43/Python_list/blob/main/Gemini_ai_pdf_health_report_analysis.ipynb\" target=\"_parent\"><img src=\"https://colab.research.google.com/assets/colab-badge.svg\" alt=\"Open In Colab\"/></a>"
      ]
    },
    {
      "cell_type": "code",
      "source": [
        "import google.generativeai as genai\n",
        "from google.colab import userdata\n",
        "GOOGLE_API_KEY=userdata.get('GOOGLE_API_KEY')\n",
        "genai.configure(api_key=GOOGLE_API_KEY)"
      ],
      "metadata": {
        "id": "OSDeEPKIQzGW"
      },
      "execution_count": 1,
      "outputs": []
    },
    {
      "cell_type": "code",
      "source": [
        "pip install pyPDF2"
      ],
      "metadata": {
        "colab": {
          "base_uri": "https://localhost:8080/"
        },
        "id": "7hJHHnueQ1bA",
        "outputId": "0b643d4f-3081-4b78-abaa-86c90394811a"
      },
      "execution_count": 2,
      "outputs": [
        {
          "output_type": "stream",
          "name": "stdout",
          "text": [
            "Collecting pyPDF2\n",
            "  Downloading pypdf2-3.0.1-py3-none-any.whl.metadata (6.8 kB)\n",
            "Downloading pypdf2-3.0.1-py3-none-any.whl (232 kB)\n",
            "\u001b[2K   \u001b[90m━━━━━━━━━━━━━━━━━━━━━━━━━━━━━━━━━━━━━━━━\u001b[0m \u001b[32m232.6/232.6 kB\u001b[0m \u001b[31m4.2 MB/s\u001b[0m eta \u001b[36m0:00:00\u001b[0m\n",
            "\u001b[?25hInstalling collected packages: pyPDF2\n",
            "Successfully installed pyPDF2-3.0.1\n"
          ]
        }
      ]
    },
    {
      "cell_type": "code",
      "source": [
        "import PyPDF2\n",
        "def extract_text_from_pdf(pdf_path):\n",
        "  \"\"\"Extracts text from a given health report PDF using pyPDF2\"\"\"\n",
        "  text=\"\"\n",
        "  with open(pdf_path, \"rb\") as file:\n",
        "    reader=PyPDF2.PdfReader(file)\n",
        "    for page in reader.pages:\n",
        "      text+=page.extract_text()\n",
        "  return text"
      ],
      "metadata": {
        "id": "UuFCjwmVQ-gq"
      },
      "execution_count": 10,
      "outputs": []
    },
    {
      "cell_type": "code",
      "execution_count": 11,
      "metadata": {
        "colab": {
          "base_uri": "https://localhost:8080/",
          "height": 558
        },
        "id": "o6-NR8piPX9A",
        "outputId": "0a86e5c1-3ec3-47db-b7f1-09b50e07734a"
      },
      "outputs": [
        {
          "output_type": "stream",
          "name": "stdout",
          "text": [
            "Key insights:\n",
            " Mr. Kishan Goud's (MR2100003157) health report from February 1st, 2021, reveals the following:\n",
            "\n",
            "**Key Findings:**\n",
            "\n",
            "* **Elevated ESR:**  An elevated Erythrocyte Sedimentation Rate (ESR) of 26 mm/hr (1st hour) and 52 mm/hr (2nd hour) suggests the presence of inflammation in the body.  This is significantly above the reference range (0-8 mm/hr for the first hour).\n",
            "\n",
            "* **Widal Test:**  The Widal test shows elevated titers for *Salmonella Typhi* \"O\" (1:160) and \"H\" (1:80), suggesting a possible past or present infection with typhoid fever.  The titers for *Salmonella Paratyphi* \"A\" and \"B\" are within the normal range.\n",
            "\n",
            "* **Negative Dengue Tests:** Tests for Dengue NS1 antigen, IgG, and IgM were all negative, ruling out a recent or past dengue fever infection.\n",
            "\n",
            "* **Negative Malaria Test:** Rapid malaria tests for *Plasmodium vivax* and *Plasmodium falciparum* were both negative.\n",
            "\n",
            "* **Complete Blood Count (CBC):**  The CBC shows mostly normal results.  Hemoglobin, RBC, WBC, and platelet counts are all within or slightly below the normal ranges.  The differential count shows normal ranges for neutrophils, lymphocytes, eosinophils, monocytes, and basophils.  The morphology of the blood cells is reported as normal.\n",
            "\n",
            "* **HbA1c:**  The HbA1c level is 5.4%, indicating good blood sugar control within the normal non-diabetic range (4-6%).\n",
            "\n",
            "* **Kidney Function:** Serum creatinine level is 0.8 mg/dl, within the normal range (0.6 - 1.25 mg/dl).\n",
            "\n",
            "* **Liver Function:** Liver function tests show results mostly within the normal range.  Total bilirubin, direct bilirubin, indirect bilirubin, alkaline phosphatase, SGOT, SGPT, total protein, albumin, and globulin levels are within or close to normal reference ranges. A/G ratio is normal as well.\n",
            "\n",
            "* **Electrolytes:**  Sodium (122 mmol/l) is slightly below the normal range (135-146 mmol/l), while potassium and chloride are within the reference ranges.\n",
            "\n",
            "\n",
            "**Potential Concerns:**\n",
            "\n",
            "The most significant concern is the elevated ESR, suggesting an inflammatory process.  The elevated Widal test titers point towards a possible typhoid infection, although it's impossible to ascertain its current activity based on this report alone.  The slightly low serum sodium warrants further investigation.\n",
            "\n",
            "**Further Investigation:**  Further testing and clinical evaluation are necessary to determine the cause of the elevated ESR and to fully assess the significance of the slightly low sodium level.  Additional information about Mr. Kishan Goud's symptoms would be crucial in interpreting these results and determining the appropriate course of treatment.\n",
            "\n"
          ]
        }
      ],
      "source": [
        "def extract_health_insights(text):\n",
        "  model=genai.GenerativeModel(\"gemini-1.5-flash\")\n",
        "  prompt=f\"Extract key insights from the following health report:\\n\\n{text}\"\n",
        "  response=model.generate_content(prompt)\n",
        "  return response.text\n",
        "pdf_file=\"health_report.pdf\"\n",
        "extracted_text=extract_text_from_pdf(pdf_file)\n",
        "insights=extract_health_insights(extracted_text)\n",
        "print(\"Key insights:\\n\",insights)"
      ]
    },
    {
      "cell_type": "markdown",
      "source": [
        "**Summarize Health Reports**"
      ],
      "metadata": {
        "id": "CzIkVUtGTDOr"
      }
    },
    {
      "cell_type": "code",
      "source": [
        "def summarize_health_report(text):\n",
        "  model=genai.GenerativeModel(\"gemini-1.5-flash\")\n",
        "  prompt=f\"Summarize the following health report:\\n\\n{text}\"\n",
        "  response=model.generate_content(prompt)\n",
        "  return response.text\n",
        "summary=summarize_health_report(extracted_text)\n",
        "print(\"Summary:\\n\",summary)"
      ],
      "metadata": {
        "colab": {
          "base_uri": "https://localhost:8080/",
          "height": 471
        },
        "id": "OrvmuqKEREUg",
        "outputId": "b5c90a0d-e79b-458c-88f4-d2a2a0f7c6c1"
      },
      "execution_count": 12,
      "outputs": [
        {
          "output_type": "stream",
          "name": "stdout",
          "text": [
            "Summary:\n",
            " This is a health report for Mr. Kishan Goud (MR2100003157), a 56-year-old male, dated February 1st, 2021.  The report includes the following test results:\n",
            "\n",
            "**Infectious Disease Tests:**\n",
            "\n",
            "* **Widal Test:** Elevated titers for *Salmonella Typhi* \"O\" (1:160) and \"H\" (1:80), suggesting possible past or present typhoid infection.  *Salmonella Paratyphi* \"AH\" and \"BH\" were within the normal range.\n",
            "* **Dengue Serology:** Negative for Dengue NS1 antigen, IgG, and IgM antibodies.\n",
            "* **Rapid Malaria Test:** Negative for both *Plasmodium falciparum* and *Plasmodium vivax*.\n",
            "\n",
            "**Hematology:**\n",
            "\n",
            "* **Complete Blood Picture (CBC):**  Hemoglobin, RBC, WBC, platelet count, and PCV were all within the normal ranges. Differential counts also showed normal ranges for neutrophils, lymphocytes, eosinophils, monocytes, and basophils.  Peripheral blood smear showed normal findings.\n",
            "* **Erythrocyte Sedimentation Rate (ESR):** Elevated (26 mm/hr in the first hour, 52 mm/hr in the second hour), suggesting inflammation.\n",
            "\n",
            "**Biochemistry:**\n",
            "\n",
            "* **Liver Function Test (LFT):** All liver function markers (bilirubin - total, direct, and indirect; alkaline phosphatase; SGOT; SGPT; total protein; albumin; globulin; A/G ratio) were within normal limits.\n",
            "* **Serum Electrolytes:** Serum sodium was slightly low (122 mmol/l), while potassium and chloride were within normal ranges.\n",
            "* **Serum Creatinine:** Within the normal range (0.8 mg/dl).\n",
            "* **Random Blood Glucose:**  Not specified in the provided text.\n",
            "* **HbA1c:**  5.4%, indicating good blood glucose control (within the normal non-diabetic range).\n",
            "\n",
            "\n",
            "**Overall:** While the Widal test suggests possible past or present typhoid, the other infectious disease tests were negative. The elevated ESR indicates inflammation, but the CBC and LFT results are largely normal.  The slightly low sodium warrants further investigation.  More information about the random blood glucose level is needed for a complete interpretation.\n",
            "\n"
          ]
        }
      ]
    },
    {
      "cell_type": "markdown",
      "source": [
        "**Detect Abnormal Lab Results**"
      ],
      "metadata": {
        "id": "t3TiolwnT_BU"
      }
    },
    {
      "cell_type": "code",
      "source": [
        "def detect_abnormalities(text):\n",
        "  model=genai.GenerativeModel(\"gemini-1.5-flash\")\n",
        "  prompt=f\"Analyze the lab test results in the following health report and highlight any abnormal values:\\n\\n{text}\"\n",
        "  response=model.generate_content(prompt)\n",
        "  return response.text\n",
        "abnormalities=detect_abnormalities(extracted_text)\n",
        "print(\"Potential abnormalities:\\n\",abnormalities)"
      ],
      "metadata": {
        "colab": {
          "base_uri": "https://localhost:8080/",
          "height": 384
        },
        "id": "g6AqRUx2Thv8",
        "outputId": "40a719cc-408b-43f4-e131-a854257d58a6"
      },
      "execution_count": 14,
      "outputs": [
        {
          "output_type": "stream",
          "name": "stdout",
          "text": [
            "Potential abnormalities:\n",
            " Based on the provided lab results, the following values are outside the reference ranges, indicating potential abnormalities:\n",
            "\n",
            "\n",
            "* **Widal Test:**  S. Typhi \"O\" (1:160) and S. Typhi \"H\" (1:80) are significantly higher than the reference range (1:20). This suggests a possible past or present infection with *Salmonella Typhi*, the bacteria causing typhoid fever.  Further investigation and clinical correlation are necessary for diagnosis.\n",
            "\n",
            "* **Erythrocyte Sedimentation Rate (ESR):** Both the 1st hour (26 mm/hr) and 2nd hour (52 mm/hr) ESR values are considerably elevated above the reference range (0-8 mm/hr for the first hour).  This indicates inflammation or infection somewhere in the body.  The high ESR needs further investigation to determine the underlying cause.\n",
            "\n",
            "* **Serum Sodium:** The serum sodium level (122 mmol/l) is below the reference range (135-146 mmol/l), suggesting hyponatremia (low sodium in the blood). This could be due to several factors, and further investigation is needed.\n",
            "\n",
            "* **Serum Chloride:** The serum chloride level (97 mmol/l) is slightly below the lower limit of the reference range (98-107 mmol/l). While it's close to the lower bound, it could be clinically significant depending on other factors and should be considered in context with other electrolyte values.\n",
            "\n",
            "\n",
            "**Values within or close to the normal range but warranting attention in context:**\n",
            "\n",
            "* **RBC (Red Blood Cell count):** While within the reference range, the value (4.3 mill/cumm) is slightly on the lower side of the normal range (4.5-5.5). This should be evaluated in conjunction with other blood parameters.\n",
            "\n",
            "\n",
            "**Important Note:**  This analysis is based solely on the lab results provided.  It is crucial to remember that lab results must always be interpreted in the context of the patient's complete medical history, physical examination, and other clinical findings by a qualified healthcare professional.  The abnormalities highlighted above require further investigation and medical attention to determine the underlying cause and appropriate treatment.\n",
            "\n"
          ]
        }
      ]
    },
    {
      "cell_type": "markdown",
      "source": [
        "**Explain Medical Terms**"
      ],
      "metadata": {
        "id": "onKjYiRZVipq"
      }
    },
    {
      "cell_type": "code",
      "source": [
        "def explain_medical_terms(text):\n",
        "    model = genai.GenerativeModel('gemini-1.5-flash')\n",
        "    prompt = f\"Explain the medical terms in the following health report in simple language:\\n\\n{text}\"\n",
        "    response = model.generate_content(prompt)\n",
        "    return response.text\n",
        "\n",
        "explanation = explain_medical_terms(extracted_text)\n",
        "print(\"Simplified Explanation:\\n\", explanation)"
      ],
      "metadata": {
        "colab": {
          "base_uri": "https://localhost:8080/",
          "height": 1000
        },
        "id": "il1ul_MtUyXV",
        "outputId": "53acff7f-2e03-4c1d-8f59-02f20aabae85"
      },
      "execution_count": 15,
      "outputs": [
        {
          "output_type": "stream",
          "name": "stdout",
          "text": [
            "Simplified Explanation:\n",
            " This report shows the results of several blood tests performed on Mr. Kishan Goud. Let's break down each section:\n",
            "\n",
            "**1. WIDAL Test (for Typhoid Fever):** This test checks for antibodies against *Salmonella Typhi* (the bacteria causing typhoid) and *Salmonella Paratyphi* (causing paratyphoid).  The numbers (e.g., 1:160) represent the dilution of the blood sample at which the antibodies are still detectable.  A higher number indicates a stronger antibody response, suggesting a past or present infection.\n",
            "\n",
            "* **S. Typhi \"O\" 1:160:**  High titer, suggests possible past or present typhoid infection.\n",
            "* **S. Typhi \"H\" 1:80:** Moderate titer, also suggests possible past or present typhoid infection.\n",
            "* **S. Paratyphi \"AH\" 1:20:**  Within the normal range, suggesting no current or recent paratyphoid AH infection.\n",
            "* **S. Paratyphi \"BH\" 1:20:** Within the normal range, suggesting no current or recent paratyphoid BH infection.\n",
            "\n",
            "\n",
            "**2. Dengue Serology:** This tests for dengue fever.\n",
            "\n",
            "* **Dengue NS1 Antigen:** Negative – No dengue virus detected.\n",
            "* **Dengue IgG:** Negative – No antibodies indicating past dengue infection detected.\n",
            "* **Dengue IgM:** Negative – No antibodies indicating a recent dengue infection detected.\n",
            "\n",
            "**3. Erythrocyte Sedimentation Rate (ESR):** This measures how quickly red blood cells settle in a tube. A higher ESR often indicates inflammation in the body.\n",
            "\n",
            "* **ESR 1st Hour 26 mm/hr:** Elevated.\n",
            "* **ESR 2nd Hour 52 mm/hr:**  Significantly elevated.  This suggests inflammation.\n",
            "\n",
            "\n",
            "**4. Rapid Malaria Test:** This is a quick test for malaria.\n",
            "\n",
            "* **P.V Negative:** Negative for *Plasmodium vivax* malaria.\n",
            "* **P.F Negative:** Negative for *Plasmodium falciparum* malaria (the most dangerous type).\n",
            "\n",
            "\n",
            "**5. Complete Blood Picture (CBC):** This is a comprehensive blood test that includes:\n",
            "\n",
            "* **Hemoglobin (Hb):** 13.6 gms% (within normal range) – Measures the oxygen-carrying capacity of the blood.\n",
            "* **Red Blood Cells (RBC):** 4.3 mill/cumm (slightly low, but within the lower end of normal range) – Number of red blood cells.\n",
            "* **White Blood Cells (WBC):** 7,200 cells/cumm (within normal range) – Number of white blood cells (part of the immune system).\n",
            "* **Platelet Count:** 2.0 lakhs/cumm (within normal range) – Number of platelets (involved in blood clotting).\n",
            "* **Packed Cell Volume (PCV):** 40.5 % (within normal range) – Percentage of red blood cells in the blood.\n",
            "* **Differential Count:** Shows the percentage of different types of white blood cells; all values are within normal ranges.\n",
            "* **Peripheral Blood Smear:**  Microscopic examination of the blood; results indicate that the red and white blood cells and platelets are within normal limits.\n",
            "\n",
            "**6. HbA1c:** This measures average blood sugar levels over the past 2-3 months. It's used to diagnose and monitor diabetes.\n",
            "\n",
            "* **HbA1c 5.4%:** Within the normal non-diabetic range.  This indicates good blood sugar control.\n",
            "\n",
            "\n",
            "**7. Serum Creatinine:** This measures kidney function.\n",
            "\n",
            "* **Serum Creatinine 0.8 mg/dl:** Within normal range.\n",
            "\n",
            "\n",
            "**8. Random Blood Glucose:** This measures blood sugar at a random time.\n",
            "\n",
            "* **Random Blood Glucose:**  (The result is missing from your provided text)\n",
            "\n",
            "**9. Liver Function Test (LFT):**  These tests assess liver health.  All values are within normal range.\n",
            "\n",
            "* **Serum Bilirubin (Total, Direct, Indirect):** All within normal range. Bilirubin is a byproduct of red blood cell breakdown.\n",
            "* **Serum Alkaline Phosphatase:** Within normal range – An enzyme found in the liver and bones.\n",
            "* **SGOT (AST):** Within normal range – Liver enzyme.\n",
            "* **SGPT (ALT):** Within normal range – Liver enzyme.\n",
            "* **Total Protein:** Within normal range.\n",
            "* **Albumin:** Within normal range – A protein produced by the liver.\n",
            "* **Globulin:**  (A value is given, but the reference range is missing)\n",
            "* **A/G Ratio:**  (A value is given, but the reference range is missing)\n",
            "\n",
            "\n",
            "**10. Serum Electrolytes:** These tests measure the levels of electrolytes (minerals) in the blood.\n",
            "\n",
            "* **Serum Sodium:** Slightly low.\n",
            "* **Serum Potassium:** Within normal range.\n",
            "* **Serum Chloride:** Slightly low.\n",
            "\n",
            "\n",
            "**Overall:**  While some results show slight deviations (e.g., slightly low sodium and chloride, elevated ESR), many results are within normal ranges.  The elevated ESR warrants further investigation to determine the cause of the inflammation. The slightly low sodium and chloride levels may be related to dehydration or other underlying conditions and should also be evaluated.  The results of the Widal test suggest possible past or present typhoid infection, but further assessment and clinical correlation are necessary for a definitive diagnosis.  It's crucial to discuss these results with Dr. Krishna Prasad for proper interpretation and further medical advice.\n",
            "\n"
          ]
        }
      ]
    },
    {
      "cell_type": "markdown",
      "source": [
        "**Ask Questions About The Report**"
      ],
      "metadata": {
        "id": "Nmnkf7IJWvf_"
      }
    },
    {
      "cell_type": "code",
      "source": [
        "def ask_gemini_about_report(text,question):\n",
        "  model=genai.GenerativeModel(\"gemini-1.5-flash\")\n",
        "  prompt=f\"The following is a health report:\\n\\n{text}\\n\\nAnswer the following question based on the report:\\n{question}\"\n",
        "  response=model.generate_content(prompt)\n",
        "  return response.text\n",
        "question=\"What is the patient's diagnosis?\"\n",
        "answer=ask_gemini_about_report(extracted_text,question)\n",
        "print(\"Answer:\\n\",answer)"
      ],
      "metadata": {
        "colab": {
          "base_uri": "https://localhost:8080/",
          "height": 89
        },
        "id": "i14UjIjGV_Hc",
        "outputId": "a23e9251-41bc-4569-e47f-b57deb4e6d82"
      },
      "execution_count": 16,
      "outputs": [
        {
          "output_type": "stream",
          "name": "stdout",
          "text": [
            "Answer:\n",
            " The provided lab report does not offer a diagnosis.  It shows the results of various tests, some of which show values outside the normal range (e.g., elevated ESR), but these are just data points.  A diagnosis requires interpretation of these results in the context of the patient's symptoms, medical history, and a physician's clinical judgment.  The slightly elevated ESR could indicate inflammation, but without further information, it is impossible to determine a cause.  Similarly, the Widal test shows elevated titers for *Salmonella Typhi* O and H antigens, suggesting past or present infection. However, a definitive diagnosis requires clinical correlation.\n",
            "\n"
          ]
        }
      ]
    },
    {
      "cell_type": "code",
      "source": [],
      "metadata": {
        "id": "KAOOPW1QXkt4"
      },
      "execution_count": null,
      "outputs": []
    }
  ]
}