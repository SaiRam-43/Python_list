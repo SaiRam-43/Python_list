{
  "nbformat": 4,
  "nbformat_minor": 0,
  "metadata": {
    "colab": {
      "provenance": [],
      "authorship_tag": "ABX9TyPBuTmCfN7hKR1g9bF+7cHc",
      "include_colab_link": true
    },
    "kernelspec": {
      "name": "python3",
      "display_name": "Python 3"
    },
    "language_info": {
      "name": "python"
    }
  },
  "cells": [
    {
      "cell_type": "markdown",
      "metadata": {
        "id": "view-in-github",
        "colab_type": "text"
      },
      "source": [
        "<a href=\"https://colab.research.google.com/github/SaiRam-43/Python_list/blob/main/Text_Similarity.ipynb\" target=\"_parent\"><img src=\"https://colab.research.google.com/assets/colab-badge.svg\" alt=\"Open In Colab\"/></a>"
      ]
    },
    {
      "cell_type": "markdown",
      "source": [
        "**Jaccard Similarity**\n",
        "\n",
        "Jaccard Similarity also known as Jaccard index,is a statistic to measure the similarity between 0 and 1.where means no similarity and the values get closer to 1 means increaing similarity 1 menas the same datasets"
      ],
      "metadata": {
        "id": "JKCeAMFofibu"
      }
    },
    {
      "cell_type": "code",
      "source": [
        "A={1,2,3,4,6}\n",
        "B={1,2,5,8,9}\n",
        "C=A.intersection(B)\n",
        "D=A.union(B)\n",
        "print('AnB = ',C)\n",
        "print('AUb = ',D)\n",
        "print('J(A,B) = ',float(len(C))/float(len(D)))"
      ],
      "metadata": {
        "colab": {
          "base_uri": "https://localhost:8080/"
        },
        "id": "Zqwzw5kfgM4r",
        "outputId": "78325af6-2574-4f6b-b3b7-587861a853a8"
      },
      "execution_count": null,
      "outputs": [
        {
          "output_type": "stream",
          "name": "stdout",
          "text": [
            "AnB =  {1, 2}\n",
            "AUb =  {1, 2, 3, 4, 5, 6, 8, 9}\n",
            "J(A,B) =  0.25\n"
          ]
        }
      ]
    },
    {
      "cell_type": "markdown",
      "source": [
        "The Jaccard similarity can be used to compare the similarity of two sets of words,which are frequently represented as sets of unique terms"
      ],
      "metadata": {
        "id": "OkhpMwdug5bF"
      }
    },
    {
      "cell_type": "code",
      "source": [
        "def jaccard_similarity(set1,set2):\n",
        "  intersection=len(set1.intersection(set2))\n",
        "  union=len(set1.union(set2))\n",
        "  return (intersection)/(union)\n",
        "set_a={\"Language\",\"for\",\"Computer\",\"NLP\",\"Science\"}\n",
        "set_b={\"NLP\",\"for\",\"Language\",\"Data\",'ML',\"AI\"}\n",
        "similarity=jaccard_similarity(set_a,set_b)\n",
        "print(\"Jaccard Similarity:\",similarity)"
      ],
      "metadata": {
        "colab": {
          "base_uri": "https://localhost:8080/"
        },
        "id": "UpLDznpPgxwn",
        "outputId": "3d33a11b-60ef-40b5-9d15-8ac4f9d87477"
      },
      "execution_count": null,
      "outputs": [
        {
          "output_type": "stream",
          "name": "stdout",
          "text": [
            "Jaccard Similarity: 0.375\n"
          ]
        }
      ]
    },
    {
      "cell_type": "code",
      "source": [
        "import numpy as np\n",
        "from sklearn.feature_extraction.text import TfidfVectorizer\n",
        "from sklearn.metrics.pairwise import cosine_similarity"
      ],
      "metadata": {
        "id": "5TwNrKJxiieT"
      },
      "execution_count": null,
      "outputs": []
    },
    {
      "cell_type": "code",
      "source": [
        "# Step 1: Define predefined chatbot responses\n",
        "responses = [\n",
        "    \"You can return an item within 7 days of purchase.\",\n",
        "    \"Our return policy allows you to return items that are unopened and in their original condition.\",\n",
        "    \"We offer free shipping on orders over $50.\",\n",
        "    \"To track your order, you can visit the 'Order Tracking' page and enter your order number.\",\n",
        "    \"Our customer support team is available from 9 AM to 6 PM, Monday through Friday.\"\n",
        "]"
      ],
      "metadata": {
        "id": "ISEiS5mJj9ag"
      },
      "execution_count": null,
      "outputs": []
    },
    {
      "cell_type": "code",
      "source": [
        "user_input=\"How can I track my order?\""
      ],
      "metadata": {
        "id": "9ocNUWKgkFPS"
      },
      "execution_count": null,
      "outputs": []
    },
    {
      "cell_type": "code",
      "source": [
        "vectorizer=TfidfVectorizer(stop_words='english')\n",
        "all_texts=responses+[user_input]"
      ],
      "metadata": {
        "id": "Zjiu48yZkeVY"
      },
      "execution_count": null,
      "outputs": []
    },
    {
      "cell_type": "code",
      "source": [
        "tfidf_matrix=vectorizer.fit_transform(all_texts)"
      ],
      "metadata": {
        "id": "la7K_nRpkrMX"
      },
      "execution_count": null,
      "outputs": []
    },
    {
      "cell_type": "code",
      "source": [
        "user_vector=tfidf_matrix[-1]\n",
        "response_vectors=tfidf_matrix[:-1]\n",
        "cosine_similarities=cosine_similarity(user_vector,response_vectors)"
      ],
      "metadata": {
        "id": "7zaI9c3LkwMV"
      },
      "execution_count": null,
      "outputs": []
    },
    {
      "cell_type": "code",
      "source": [
        "most_similar_idx=np.argmax(cosine_similarities)"
      ],
      "metadata": {
        "id": "bAmGtAaZk6h9"
      },
      "execution_count": null,
      "outputs": []
    },
    {
      "cell_type": "code",
      "source": [
        "print(f\"User Query: {user_input}\")\n",
        "print(f\"Most relevant response: {responses[most_similar_idx]}\")"
      ],
      "metadata": {
        "colab": {
          "base_uri": "https://localhost:8080/"
        },
        "id": "3-pQM6b9mqTT",
        "outputId": "59a39ff0-80fc-4d5c-ed16-362dcd6fc233"
      },
      "execution_count": null,
      "outputs": [
        {
          "output_type": "stream",
          "name": "stdout",
          "text": [
            "User Query: How can I track my order?\n",
            "Most relevant response: To track your order, you can visit the 'Order Tracking' page and enter your order number.\n"
          ]
        }
      ]
    },
    {
      "cell_type": "code",
      "source": [],
      "metadata": {
        "id": "f_zZt6GQnA2A"
      },
      "execution_count": null,
      "outputs": []
    }
  ]
}