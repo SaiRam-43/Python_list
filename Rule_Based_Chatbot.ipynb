{
  "nbformat": 4,
  "nbformat_minor": 0,
  "metadata": {
    "colab": {
      "provenance": [],
      "authorship_tag": "ABX9TyOcXJTMfKexhxYAD/Vb0yZK",
      "include_colab_link": true
    },
    "kernelspec": {
      "name": "python3",
      "display_name": "Python 3"
    },
    "language_info": {
      "name": "python"
    }
  },
  "cells": [
    {
      "cell_type": "markdown",
      "metadata": {
        "id": "view-in-github",
        "colab_type": "text"
      },
      "source": [
        "<a href=\"https://colab.research.google.com/github/SaiRam-43/Python_list/blob/main/Rule_Based_Chatbot.ipynb\" target=\"_parent\"><img src=\"https://colab.research.google.com/assets/colab-badge.svg\" alt=\"Open In Colab\"/></a>"
      ]
    },
    {
      "cell_type": "code",
      "execution_count": 1,
      "metadata": {
        "colab": {
          "base_uri": "https://localhost:8080/"
        },
        "id": "Ro6eEDwbORMg",
        "outputId": "0d4a0f11-89e3-46d4-d293-10c59dd6741e"
      },
      "outputs": [
        {
          "output_type": "stream",
          "name": "stdout",
          "text": [
            "Requirement already satisfied: nltk in /usr/local/lib/python3.11/dist-packages (3.9.1)\n",
            "Requirement already satisfied: click in /usr/local/lib/python3.11/dist-packages (from nltk) (8.1.8)\n",
            "Requirement already satisfied: joblib in /usr/local/lib/python3.11/dist-packages (from nltk) (1.4.2)\n",
            "Requirement already satisfied: regex>=2021.8.3 in /usr/local/lib/python3.11/dist-packages (from nltk) (2024.11.6)\n",
            "Requirement already satisfied: tqdm in /usr/local/lib/python3.11/dist-packages (from nltk) (4.67.1)\n"
          ]
        }
      ],
      "source": [
        "!pip install nltk"
      ]
    },
    {
      "cell_type": "code",
      "source": [
        "import nltk\n",
        "import re\n",
        "from nltk.chat.util import Chat, reflections"
      ],
      "metadata": {
        "id": "61Rw-M_SORzY"
      },
      "execution_count": 2,
      "outputs": []
    },
    {
      "cell_type": "code",
      "source": [
        "nltk.download('punkt')\n",
        "nltk.download('averaged_perceptron_tagger')"
      ],
      "metadata": {
        "colab": {
          "base_uri": "https://localhost:8080/"
        },
        "id": "hA96J1nEOWLX",
        "outputId": "6d218d93-3dbe-4888-af23-173c3c4e3f39"
      },
      "execution_count": 3,
      "outputs": [
        {
          "output_type": "stream",
          "name": "stderr",
          "text": [
            "[nltk_data] Downloading package punkt to /root/nltk_data...\n",
            "[nltk_data]   Unzipping tokenizers/punkt.zip.\n",
            "[nltk_data] Downloading package averaged_perceptron_tagger to\n",
            "[nltk_data]     /root/nltk_data...\n",
            "[nltk_data]   Unzipping taggers/averaged_perceptron_tagger.zip.\n"
          ]
        },
        {
          "output_type": "execute_result",
          "data": {
            "text/plain": [
              "True"
            ]
          },
          "metadata": {},
          "execution_count": 3
        }
      ]
    },
    {
      "cell_type": "code",
      "source": [
        "nltk.download('punkt')\n",
        "nltk.download('averaged_perceptron_tagger')"
      ],
      "metadata": {
        "colab": {
          "base_uri": "https://localhost:8080/"
        },
        "id": "4pRA5_vOOYwc",
        "outputId": "849b2c17-651e-4790-9580-833457a7ecec"
      },
      "execution_count": 4,
      "outputs": [
        {
          "output_type": "stream",
          "name": "stderr",
          "text": [
            "[nltk_data] Downloading package punkt to /root/nltk_data...\n",
            "[nltk_data]   Package punkt is already up-to-date!\n",
            "[nltk_data] Downloading package averaged_perceptron_tagger to\n",
            "[nltk_data]     /root/nltk_data...\n",
            "[nltk_data]   Package averaged_perceptron_tagger is already up-to-\n",
            "[nltk_data]       date!\n"
          ]
        },
        {
          "output_type": "execute_result",
          "data": {
            "text/plain": [
              "True"
            ]
          },
          "metadata": {},
          "execution_count": 4
        }
      ]
    },
    {
      "cell_type": "code",
      "source": [
        "# Define patterns and responses\n",
        "pairs = [\n",
        "    [r\"my name is (.*)\", [\"Hello %1, how can I assist you today?\",]],\n",
        "\n",
        "    [r\"hi|hey|hello\", [\"Hello, how can I help you?\", \"Hey there! What can I do for you?\",\n",
        "\n",
        "                       \"Hi! How can I assist you today?\"]],\n",
        "\n",
        "    [r\"what is your name?\", [\"I am a chatbot created to assist you. You can call me Chatbot.\",]],\n",
        "\n",
        "    [r\"how are you?\", [\"I'm a bot, so I don't have feelings, but I'm here to help you!\",]],\n",
        "\n",
        "    [r\"can you help me with (.*)\", [\"Sure, I can help you with %1. Please provide more details.\",]],\n",
        "\n",
        "    [r\"sorry (.*)\", [\"It's okay. How can I assist you?\",]],\n",
        "\n",
        "    [r\"thank you|thanks\", [\"You're welcome!\", \"No problem!\", \"Happy to help!\"]],\n",
        "\n",
        "    [r\"quit\", [\"Bye! Have a great day!\", \"Goodbye!\"]],\n",
        "\n",
        "    [r\"best place (.*)\", [\"Hyderabad\",\"Banglore\",\"Vizag\", \"Mumbai\"]],\n",
        "\n",
        "    [r\"golden|temple (.*)\", [\"It is in amritsar\"]],\n",
        "\n",
        "    [r\"(.*)\", [\"I'm sorry, I don't understand that. Can you rephrase?\",\n",
        "\n",
        "               \"Could you please elaborate on that?\"]]]"
      ],
      "metadata": {
        "id": "0xjFZxwfOayZ"
      },
      "execution_count": 5,
      "outputs": []
    },
    {
      "cell_type": "code",
      "source": [
        "#define the chatbot class\n",
        "class RBChatbot:\n",
        "  def __init__(self,pairs):\n",
        "    self.chatbot = Chat(pairs, reflections) # This line creates the 'chatbot' attribute\n",
        "  def respond(self,user_input):\n",
        "    return self.chatbot.respond(user_input)  # Changed 'self.chat' to 'self.chatbot'\n",
        "#initialize the chatbot\n",
        "chatbot=RBChatbot(pairs)"
      ],
      "metadata": {
        "id": "xS05v1zaOi4H"
      },
      "execution_count": 6,
      "outputs": []
    },
    {
      "cell_type": "code",
      "source": [
        "# Function to chat with the bot\n",
        "def chat_with_bot():\n",
        "    print(\"Hi, I'm your chatbot. Type 'quit' to exit.\")\n",
        "    while True:\n",
        "        user_input = input(\"You: \")\n",
        "        if user_input.lower() == 'quit':\n",
        "            print(\"Chatbot: Bye! Have a great day!\")\n",
        "            break\n",
        "        response = chatbot.respond(user_input)\n",
        "        print(f\"Chatbot: {response}\")\n",
        "# Start chatting with the bot\n",
        "\n",
        "chat_with_bot()"
      ],
      "metadata": {
        "colab": {
          "base_uri": "https://localhost:8080/"
        },
        "id": "ozjFPkpkOlj9",
        "outputId": "c551a739-aae1-4df2-fbbb-699c2f2199d9"
      },
      "execution_count": 7,
      "outputs": [
        {
          "output_type": "stream",
          "name": "stdout",
          "text": [
            "Hi, I'm your chatbot. Type 'quit' to exit.\n",
            "You: hello\n",
            "Chatbot: Hi! How can I assist you today?\n",
            "You: hi\n",
            "Chatbot: Hi! How can I assist you today?\n",
            "You: tell me about a charminar\n",
            "Chatbot: Could you please elaborate on that?\n",
            "You: best place to visit in india\n",
            "Chatbot: Mumbai\n",
            "You: best place to visit in telangana\n",
            "Chatbot: Banglore\n",
            "You: sorry\n",
            "Chatbot: I'm sorry, I don't understand that. Can you rephrase?\n",
            "You: best place to visit in india\n",
            "Chatbot: Banglore\n",
            "You: best place to visit in india\n",
            "Chatbot: Mumbai\n",
            "You: best place to visit in india\n",
            "Chatbot: Mumbai\n",
            "You: best place to visit in india\n",
            "Chatbot: Hyderabad\n",
            "You: best place to visit in india\n",
            "Chatbot: Vizag\n",
            "You: quit\n",
            "Chatbot: Bye! Have a great day!\n"
          ]
        }
      ]
    },
    {
      "cell_type": "code",
      "source": [],
      "metadata": {
        "id": "vJplHAULOngQ"
      },
      "execution_count": null,
      "outputs": []
    }
  ]
}