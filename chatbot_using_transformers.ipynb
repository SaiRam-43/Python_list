{
  "nbformat": 4,
  "nbformat_minor": 0,
  "metadata": {
    "colab": {
      "provenance": [],
      "authorship_tag": "ABX9TyNRhYP0U0maOesH6thB0YRV",
      "include_colab_link": true
    },
    "kernelspec": {
      "name": "python3",
      "display_name": "Python 3"
    },
    "language_info": {
      "name": "python"
    }
  },
  "cells": [
    {
      "cell_type": "markdown",
      "metadata": {
        "id": "view-in-github",
        "colab_type": "text"
      },
      "source": [
        "<a href=\"https://colab.research.google.com/github/SaiRam-43/Python_list/blob/main/chatbot_using_transformers.ipynb\" target=\"_parent\"><img src=\"https://colab.research.google.com/assets/colab-badge.svg\" alt=\"Open In Colab\"/></a>"
      ]
    },
    {
      "cell_type": "code",
      "execution_count": 3,
      "metadata": {
        "id": "rJ_t64sL3zxc"
      },
      "outputs": [],
      "source": [
        "import os\n",
        "import atexit\n",
        "import shutil\n",
        "from transformers import BlenderbotTokenizer, BlenderbotForConditionalGeneration\n",
        "# Step 1: Load the pre-trained BlenderBot model and tokenizer\n",
        "model_name = \"facebook/blenderbot-1B-distill\"\n",
        "tokenizer = BlenderbotTokenizer.from_pretrained(model_name)\n",
        "model = BlenderbotForConditionalGeneration.from_pretrained(model_name)\n",
        "# Step 2: Define a function to interact with the chatbot\n",
        "def interact_with_chatbot(user_input, conversation_history):\n",
        "    # Step 2.1: Add user input to the conversation history\n",
        "    conversation_history.append(f\"User: {user_input}\")\n",
        "    # Step 2.2: Prepare the input text for the model\n",
        "    conversation_text = \" \".join(conversation_history[-5:])  # Use only the last 5 exchanges to keep context manageable\n",
        "    # Step 2.3: Generate a response using the chatbot pipeline\n",
        "    inputs = tokenizer(conversation_text, return_tensors=\"pt\", truncation=True)\n",
        "    response_ids = model.generate(**inputs, max_length=1000, pad_token_id=tokenizer.eos_token_id)\n",
        "    response_text = tokenizer.decode(response_ids[0], skip_special_tokens=True)\n",
        "    # Step 2.4: Add the generated response to the conversation history\n",
        "    conversation_history.append(f\"Chatbot: {response_text}\")\n",
        "    return response_text\n",
        "# Step 3: Define a function to delete the model files from the cache directory\n",
        "def delete_model_files():\n",
        "    cache_dir = os.path.expanduser(\"~/.cache/huggingface/hub/models--facebook--blenderbot-1B-distill\")\n",
        "    if os.path.exists(cache_dir):\n",
        "        user_input = input(\"Do you want to delete the model files from the cache directory? (y/n): \")\n",
        "        if user_input.lower() == 'y':\n",
        "            shutil.rmtree(cache_dir)\n",
        "            print(f\"Deleted model files from cache directory: {cache_dir}\")\n",
        "        else:\n",
        "            print(\"Model files not deleted from cache directory.\")\n",
        "    else:\n",
        "        print(f\"Model files not found in cache directory: {cache_dir}\")"
      ]
    },
    {
      "cell_type": "code",
      "source": [
        "# Step 4: Register the delete_model_files function to be called on program exit\n",
        "atexit.register(delete_model_files)\n",
        "# Step 5: Start the conversation loop\n",
        "print(\"Welcome to the Indian Tourism Chatbot!\")\n",
        "print(\"Type 'quit' to end the conversation.\\n\")"
      ],
      "metadata": {
        "id": "kkvaPl265eKN",
        "colab": {
          "base_uri": "https://localhost:8080/"
        },
        "outputId": "d56bd7b8-aa5b-4543-894c-c2fb1c118604"
      },
      "execution_count": 5,
      "outputs": [
        {
          "output_type": "stream",
          "name": "stdout",
          "text": [
            "Welcome to the Indian Tourism Chatbot!\n",
            "Type 'quit' to end the conversation.\n",
            "\n"
          ]
        }
      ]
    },
    {
      "cell_type": "code",
      "source": [
        "conversation_history=[]\n",
        "while True:\n",
        "  #step 5.1: Get user input\n",
        "  user_input=input(\"User: \")\n",
        "  #step 5.2: Check if the user wants to quit\n",
        "  if user_input.lower()==\"quit\":\n",
        "    print(\"Thank you for using the Indian Tourism Chatbot. Goodbye!\")\n",
        "    break\n",
        "  #step 5.3: Interact with the chatbot and get a response\n",
        "  response=interact_with_chatbot(user_input,conversation_history)\n",
        "  print(f\"Chatbot: {response}\")\n"
      ],
      "metadata": {
        "colab": {
          "base_uri": "https://localhost:8080/"
        },
        "id": "QVfEWaYnZsvQ",
        "outputId": "71f0c4fe-67b1-489b-c774-a2e52121f2b7"
      },
      "execution_count": 7,
      "outputs": [
        {
          "output_type": "stream",
          "name": "stdout",
          "text": [
            "User: charminar\n",
            "Chatbot:  Have you heard of Charminar? It's a charitable organization that helps people.\n",
            "User: explain  different indian cultures\n",
            "Chatbot:  Yes, I have heard of it. It was founded in 1971 by Charles Alderton.\n",
            "User: hello\n",
            "Chatbot:  Hello, how are you today? I just got back from visiting my grandparents.\n",
            "User: okay bye\n",
            "Chatbot:  I am doing well, thank you. What did you do with your grandfather today?\n",
            "User: suggest best places in india\n",
            "Chatbot:  I went to the beach with him. What do you like to do in your spare time?\n",
            "User: quit\n",
            "Thank you for using the Indian Tourism Chatbot. Goodbye!\n"
          ]
        }
      ]
    },
    {
      "cell_type": "code",
      "source": [],
      "metadata": {
        "id": "w9x7vc2kdVTk"
      },
      "execution_count": null,
      "outputs": []
    }
  ]
}