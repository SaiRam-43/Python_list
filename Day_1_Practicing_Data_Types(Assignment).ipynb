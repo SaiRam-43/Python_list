{
  "nbformat": 4,
  "nbformat_minor": 0,
  "metadata": {
    "colab": {
      "provenance": [],
      "authorship_tag": "ABX9TyPdIMfJoEn2e3xNoe9pZe+1",
      "include_colab_link": true
    },
    "kernelspec": {
      "name": "python3",
      "display_name": "Python 3"
    },
    "language_info": {
      "name": "python"
    }
  },
  "cells": [
    {
      "cell_type": "markdown",
      "metadata": {
        "id": "view-in-github",
        "colab_type": "text"
      },
      "source": [
        "<a href=\"https://colab.research.google.com/github/SaiRam-43/Python_list/blob/main/Day_1_Practicing_Data_Types(Assignment).ipynb\" target=\"_parent\"><img src=\"https://colab.research.google.com/assets/colab-badge.svg\" alt=\"Open In Colab\"/></a>"
      ]
    },
    {
      "cell_type": "markdown",
      "source": [
        "1. Jupyter Notebook and Data Types\n",
        "\n",
        "Write a program in Jupyter Notebook to declare variables of different data types (integer, float, string, and boolean). Print each variable and its type.\n"
      ],
      "metadata": {
        "id": "ftKMF26qsABw"
      }
    },
    {
      "cell_type": "code",
      "source": [
        "\n",
        "integer_var = 42\n",
        "float_var = 3.14\n",
        "string_var = \"Hello, Jupyter!\"\n",
        "boolean_var = True\n",
        "print(\"Integer value:\", integer_var, \"| Type:\", type(integer_var))\n",
        "print(\"Float value:\", float_var, \"| Type:\", type(float_var))\n",
        "print(\"String value:\", string_var, \"| Type:\", type(string_var))\n",
        "print(\"Boolean value:\", boolean_var, \"| Type:\", type(boolean_var))\n"
      ],
      "metadata": {
        "colab": {
          "base_uri": "https://localhost:8080/"
        },
        "id": "HFs-Pq3HsME9",
        "outputId": "a81be55e-7806-48d0-f76f-e09dfd55fa53"
      },
      "execution_count": 2,
      "outputs": [
        {
          "output_type": "stream",
          "name": "stdout",
          "text": [
            "Integer value: 42 | Type: <class 'int'>\n",
            "Float value: 3.14 | Type: <class 'float'>\n",
            "String value: Hello, Jupyter! | Type: <class 'str'>\n",
            "Boolean value: True | Type: <class 'bool'>\n"
          ]
        }
      ]
    },
    {
      "cell_type": "code",
      "source": [],
      "metadata": {
        "id": "rTCc4JrfsQJK"
      },
      "execution_count": null,
      "outputs": []
    }
  ]
}