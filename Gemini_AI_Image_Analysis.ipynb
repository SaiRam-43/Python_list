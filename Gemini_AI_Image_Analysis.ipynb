{
  "nbformat": 4,
  "nbformat_minor": 0,
  "metadata": {
    "colab": {
      "provenance": [],
      "authorship_tag": "ABX9TyNNoHV6RNjAj+eFPLnk+ONp",
      "include_colab_link": true
    },
    "kernelspec": {
      "name": "python3",
      "display_name": "Python 3"
    },
    "language_info": {
      "name": "python"
    }
  },
  "cells": [
    {
      "cell_type": "markdown",
      "metadata": {
        "id": "view-in-github",
        "colab_type": "text"
      },
      "source": [
        "<a href=\"https://colab.research.google.com/github/SaiRam-43/Python_list/blob/main/Gemini_AI_Image_Analysis.ipynb\" target=\"_parent\"><img src=\"https://colab.research.google.com/assets/colab-badge.svg\" alt=\"Open In Colab\"/></a>"
      ]
    },
    {
      "cell_type": "markdown",
      "source": [
        "**Generate text from image and text inputs**"
      ],
      "metadata": {
        "id": "tzm7jYr8XniB"
      }
    },
    {
      "cell_type": "code",
      "execution_count": 6,
      "metadata": {
        "id": "8QP75O4KVy05"
      },
      "outputs": [],
      "source": [
        "import google.generativeai as genai\n",
        "from google.colab import userdata\n",
        "GOOGLE_API_KEY=userdata.get('GOOGLE_API_KEY')\n",
        "genai.configure(api_key=GOOGLE_API_KEY)"
      ]
    },
    {
      "cell_type": "code",
      "source": [
        "import pathlib\n",
        "import textwrap\n",
        "\n",
        "from IPython.display import display, Markdown\n",
        "\n",
        "def to_markdown(text):\n",
        "    text = text.replace('*', ' - ')\n",
        "    return Markdown(textwrap.indent(text, '> ', predicate=lambda _: True))"
      ],
      "metadata": {
        "id": "VmlZKFypYKsg"
      },
      "execution_count": 7,
      "outputs": []
    },
    {
      "cell_type": "code",
      "source": [
        "from google import genai\n",
        "from google.genai import types\n",
        "client=genai.Client(api_key=GOOGLE_API_KEY)"
      ],
      "metadata": {
        "id": "cr4qAU9LZtcS"
      },
      "execution_count": 8,
      "outputs": []
    },
    {
      "cell_type": "code",
      "source": [
        "import PIL.Image\n",
        "import google.generativeai as genai # Import the correct module using its original name\n",
        "\n",
        "img = PIL.Image.open('/content/repo.jpg')\n",
        "img\n",
        "\n",
        "# Use google.generativeai, avoiding the variable name collision\n",
        "model = genai.GenerativeModel('gemini-1.5-flash')\n",
        "response = model.generate_content([\"Write a short, engaging post based on this picture. It should include a description of the photo and talk about picture.\", img],stream=True)\n",
        "response.resolve()"
      ],
      "metadata": {
        "id": "8LSmFxPdcr9p"
      },
      "execution_count": 10,
      "outputs": []
    },
    {
      "cell_type": "code",
      "source": [
        "to_markdown(response.text)"
      ],
      "metadata": {
        "colab": {
          "base_uri": "https://localhost:8080/",
          "height": 399
        },
        "id": "H7e9XjZScyM7",
        "outputId": "787378b3-4fd2-4178-91e4-4fc08b178894"
      },
      "execution_count": 11,
      "outputs": [
        {
          "output_type": "execute_result",
          "data": {
            "text/plain": [
              "<IPython.core.display.Markdown object>"
            ],
            "text/markdown": "> Here's a short, engaging social media post based on the provided thyroid test report image:\n> \n>  -  - Option 1 (Focus on Results): -  - \n> \n> \"Phew! My recent thyroid test results from Thyrocare are in, and everything looks good!  The report shows my T3, T4, and TSH levels are all within the normal range.  Feeling relieved and grateful for good health!  #thyroidhealth #goodhealth #thyrocare\"\n> \n> \n>  -  - Option 2 (Focus on Process): -  - \n> \n> \"Just got back my thyroid panel results from Thyrocare.  The process was straightforward, from sample collection at Kalpana Medicos to receiving the detailed report.  Impressed with the clarity and thoroughness of the report.   #thyroidtest #healthcare #thyrocare #bloodtest\"\n> \n> \n>  -  - Option 3 (Question to Engage Audience): -  - \n> \n> \"Anyone else regularly get their thyroid levels checked?  Sharing my Thyrocare results – all looks normal, which is great news! What's your experience with thyroid testing? #thyroid #health #wellness #thyrocare #bloodtests\"\n> \n> \n>  -  - Note: -  -   Remember to replace the hashtags with ones relevant to your specific audience and platform. You can also add a picture of the report (maybe a cropped version for privacy) if it's appropriate for the social media platform.\n"
          },
          "metadata": {},
          "execution_count": 11
        }
      ]
    },
    {
      "cell_type": "markdown",
      "source": [
        "**Generate an Image Caption**"
      ],
      "metadata": {
        "id": "l3cKSeO4eVFh"
      }
    },
    {
      "cell_type": "code",
      "source": [
        "response=model.generate_content([\"generate an accurate captiion for this image.\",img])\n",
        "print(response.text)"
      ],
      "metadata": {
        "colab": {
          "base_uri": "https://localhost:8080/",
          "height": 106
        },
        "id": "UflPfkFjdJ1X",
        "outputId": "73dec5a6-af82-4764-eee4-a2cec939eacd"
      },
      "execution_count": 12,
      "outputs": [
        {
          "output_type": "stream",
          "name": "stdout",
          "text": [
            "Here's a caption for the image:\n",
            "\n",
            "Thyrocare thyroid test report for Ashim Kr Sengupta showing normal thyroid hormone levels (T3, T4, and TSH) with results within the reference ranges.  The test was conducted using chemiluminescent immunoassays.\n",
            "\n"
          ]
        }
      ]
    },
    {
      "cell_type": "code",
      "source": [
        "from PIL import Image\n",
        "image_path=\"girl.jpg\"\n",
        "image = Image.open(image_path)\n",
        "response = model.generate_content([\"Describe this image in detail.\",image])\n",
        "print(response.text)"
      ],
      "metadata": {
        "colab": {
          "base_uri": "https://localhost:8080/",
          "height": 263
        },
        "id": "OqK34oMtes6g",
        "outputId": "bf1b1970-d280-44ba-b2fd-57005f2ce235"
      },
      "execution_count": 13,
      "outputs": [
        {
          "output_type": "stream",
          "name": "stdout",
          "text": [
            "Here's a description of the image:\n",
            "\n",
            "Close-up view of a woman with shoulder-length, curly brown hair. \n",
            "\n",
            "\n",
            "She is smiling and pointing to her left with her right index finger, while her left arm is crossed over her torso. \n",
            "\n",
            "\n",
            "She's wearing a teal or turquoise three-quarter-sleeved top with a subtle gold or light-colored pattern that looks like small floral or paisley motifs. The top is a simple, loose-fitting style with a button or closure near the neckline. Her skin tone is medium, and she appears to have minimal makeup.\n",
            "\n",
            "\n",
            "The background is a plain, bright white, which makes the woman and her clothing stand out clearly. The overall impression is one of a friendly, approachable, and possibly informative image, as if she is directing attention to something off-camera.\n",
            "\n"
          ]
        }
      ]
    },
    {
      "cell_type": "code",
      "source": [
        "response=model.generate_content([\"what emotions can you detect from the image\", image])\n",
        "print(response.text)"
      ],
      "metadata": {
        "colab": {
          "base_uri": "https://localhost:8080/",
          "height": 72
        },
        "id": "LYv5qTkSg6W9",
        "outputId": "d671c49d-1029-4015-cdea-0bb2d4972e71"
      },
      "execution_count": 14,
      "outputs": [
        {
          "output_type": "stream",
          "name": "stdout",
          "text": [
            "The woman in the image appears to be expressing confidence, friendliness, and possibly a hint of playfulness.  Her smile and direct eye contact contribute to the friendly and confident impression.  The pointing gesture suggests she is also informative or guiding.\n",
            "\n"
          ]
        }
      ]
    },
    {
      "cell_type": "code",
      "source": [
        "#open an image\n",
        "image_path=\"quote.jpg\"\n",
        "image=Image.open(image_path)\n",
        "response=model.generate_content([\"Extract and read the text from this image.\",image])\n",
        "print(response.text)"
      ],
      "metadata": {
        "colab": {
          "base_uri": "https://localhost:8080/",
          "height": 86
        },
        "id": "HR8skzzIhrxN",
        "outputId": "43a7c429-bd47-404e-8c68-48c4e9ff7054"
      },
      "execution_count": 15,
      "outputs": [
        {
          "output_type": "stream",
          "name": "stdout",
          "text": [
            "FAILURE is not the\n",
            "opposite of success\n",
            "it's PART OF\n",
            "SUCCESS\n"
          ]
        }
      ]
    },
    {
      "cell_type": "code",
      "source": [],
      "metadata": {
        "id": "d1fKppKGkHB9"
      },
      "execution_count": null,
      "outputs": []
    }
  ]
}