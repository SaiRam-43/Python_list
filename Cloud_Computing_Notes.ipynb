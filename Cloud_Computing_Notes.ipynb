{
  "nbformat": 4,
  "nbformat_minor": 0,
  "metadata": {
    "colab": {
      "provenance": [],
      "authorship_tag": "ABX9TyO7k3cwXyL0hyzMpfx/7CT4",
      "include_colab_link": true
    },
    "kernelspec": {
      "name": "python3",
      "display_name": "Python 3"
    },
    "language_info": {
      "name": "python"
    }
  },
  "cells": [
    {
      "cell_type": "markdown",
      "metadata": {
        "id": "view-in-github",
        "colab_type": "text"
      },
      "source": [
        "<a href=\"https://colab.research.google.com/github/SaiRam-43/Python_list/blob/main/Cloud_Computing_Notes.ipynb\" target=\"_parent\"><img src=\"https://colab.research.google.com/assets/colab-badge.svg\" alt=\"Open In Colab\"/></a>"
      ]
    },
    {
      "cell_type": "markdown",
      "source": [
        "**Cloud Computing**"
      ],
      "metadata": {
        "id": "6e5SAc9F9hCD"
      }
    },
    {
      "cell_type": "markdown",
      "source": [
        "Cloud computing is the delivery of computing services—including servers, storage, databases, networking, software, analytics, and intelligence—over the internet (\"the cloud\") to offer faster innovation, flexible resources, and economies of scale."
      ],
      "metadata": {
        "id": "4EXy89U-9mp4"
      }
    },
    {
      "cell_type": "markdown",
      "source": [
        "**Types of Cloud Computing**\n",
        "\n",
        "**Public Cloud :** Services are provided by third-party cloud providers (e.g., AWS, Google Cloud, Azure).\n",
        "\n",
        "**Private Cloud :** Cloud resources are dedicated to a single organization.\n",
        "\n",
        "**Hybrid Cloud :** Combines public and private clouds for greater flexibility and optimization."
      ],
      "metadata": {
        "id": "zShJ8BMb922d"
      }
    },
    {
      "cell_type": "markdown",
      "source": [
        "**Cloud Computing Models**\n",
        "\n",
        "**Infrastructure as a Service (IaaS) :** Provides virtualized computing resources like servers and storage (e.g., AWS EC2, Google Compute Engine).\n",
        "\n",
        "**Platform as a Service (PaaS) :** Provides a platform for developers to build applications without managing the infrastructure (e.g., Google App Engine, Heroku).\n",
        "\n",
        "**Software as a Service (SaaS) :** Delivers software applications over the internet (e.g., Gmail, Dropbox, Microsoft 365)."
      ],
      "metadata": {
        "id": "QZf2Pqyx-N2P"
      }
    },
    {
      "cell_type": "markdown",
      "source": [
        "**Benefits of Cloud Computing**\n",
        "\n",
        "**✔ Scalability :** Resources can be scaled up or down as needed.\n",
        "\n",
        "**✔ Cost Efficiency :** Pay-as-you-go pricing reduces capital expenditure.\n",
        "\n",
        "**✔ Accessibility :** Services are accessible from anywhere with an internet connection.\n",
        "\n",
        "**✔ Security & Backup :** Cloud providers implement strong security and disaster recovery solutions."
      ],
      "metadata": {
        "id": "4nApXMzB-h87"
      }
    },
    {
      "cell_type": "markdown",
      "source": [
        "**Amazon Web Services (AWS) Overview**\n",
        "\n",
        "AWS (Amazon Web Services) is a leading cloud computing platform offering a wide range of cloud services, including computing power, storage, databases, machine learning, and security. It enables businesses and developers to build, deploy, and scale applications efficiently.\n",
        "\n"
      ],
      "metadata": {
        "id": "YkIdpK0V_M_w"
      }
    },
    {
      "cell_type": "code",
      "source": [],
      "metadata": {
        "id": "k7aigsmq9l61"
      },
      "execution_count": null,
      "outputs": []
    }
  ]
}